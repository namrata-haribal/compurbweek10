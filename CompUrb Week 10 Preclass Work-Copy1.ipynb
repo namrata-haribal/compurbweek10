{
 "cells": [
  {
   "cell_type": "code",
   "execution_count": 2,
   "metadata": {},
   "outputs": [],
   "source": [
    "import pandas as pd \n",
    "import glob\n",
    "import re "
   ]
  },
  {
   "cell_type": "markdown",
   "metadata": {},
   "source": [
    "## Data Retrieval "
   ]
  },
  {
   "cell_type": "code",
   "execution_count": 3,
   "metadata": {},
   "outputs": [],
   "source": [
    "# Convert all datasets into panda dataframes and store them within a list. \n",
    "path = (\"FPDatasets\")\n",
    "all_files = glob.glob(path + \"/*.csv\")\n",
    "all_dataframes = [] \n",
    "for file in all_files: \n",
    "    df = pd.read_csv(file)\n",
    "    all_dataframes.append(df)"
   ]
  },
  {
   "cell_type": "markdown",
   "metadata": {},
   "source": [
    "## How much time have we spent on transit? "
   ]
  },
  {
   "cell_type": "code",
   "execution_count": 75,
   "metadata": {},
   "outputs": [],
   "source": [
    "def transitTimeCalculator(file): \n",
    "    '''\n",
    "    Function takes in a dataframe containing start and end times of journeys \n",
    "    and returns the total time spent on transit as well as a monthly breakdown.\n",
    "    '''\n",
    "    total_time = 0 \n",
    "    \n",
    "    monthly_time = dict()\n",
    "    \n",
    "    start_end = file[~file['Journey/Action'].str.contains(\"Bus journey|Topped up\", regex=True)]\n",
    "    for index, row in start_end.iterrows():\n",
    "        time =  (pd.to_datetime(row['End Time']) - pd.to_datetime(row['Start Time'])).total_seconds()/60\n",
    "        date = row['Date']\n",
    "        extract_month = (re.findall('-(.*)-', date))[0] \n",
    "        \n",
    "        if extract_month in monthly_time.keys(): \n",
    "            monthly_time[extract_month] += time \n",
    "        else: \n",
    "            monthly_time[extract_month] = time \n",
    "        \n",
    "        total_time += time \n",
    "    return total_time, monthly_time\n",
    "        \n",
    "    "
   ]
  }
 ],
 "metadata": {
  "kernelspec": {
   "display_name": "Python 3",
   "language": "python",
   "name": "python3"
  },
  "language_info": {
   "codemirror_mode": {
    "name": "ipython",
    "version": 3
   },
   "file_extension": ".py",
   "mimetype": "text/x-python",
   "name": "python",
   "nbconvert_exporter": "python",
   "pygments_lexer": "ipython3",
   "version": "3.6.4"
  }
 },
 "nbformat": 4,
 "nbformat_minor": 2
}
